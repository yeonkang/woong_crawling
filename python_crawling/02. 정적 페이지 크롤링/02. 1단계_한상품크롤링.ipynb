{
 "cells": [
  {
   "cell_type": "code",
   "execution_count": 1,
   "id": "f1fda6cd",
   "metadata": {},
   "outputs": [],
   "source": [
    "import requests\n",
    "from bs4 import BeautifulSoup\n",
    "response = requests.get(\"https://startcoding.pythonanywhere.com/basic\")\n",
    "html = response.text\n",
    "soup = BeautifulSoup(html, 'html.parser')"
   ]
  },
  {
   "cell_type": "code",
   "execution_count": 3,
   "id": "e641c98a",
   "metadata": {},
   "outputs": [
    {
     "data": {
      "text/plain": [
       "'노트북'"
      ]
     },
     "execution_count": 3,
     "metadata": {},
     "output_type": "execute_result"
    }
   ],
   "source": [
    "soup.select_one(\".product-category\").text\n",
    "# select_one 을 사용하면, 여러개 중, 첫번째 값만 가져오게 된다."
   ]
  },
  {
   "cell_type": "code",
   "execution_count": null,
   "id": "c2f5cd63",
   "metadata": {},
   "outputs": [],
   "source": [
    "soup.select_one(\".product-category\").text"
   ]
  },
  {
   "cell_type": "code",
   "execution_count": 4,
   "id": "9d26b826",
   "metadata": {},
   "outputs": [
    {
     "data": {
      "text/plain": [
       "'에이서 스위프트 GO 16 OLED, 스틸 그레이, 코어i7, 512GB, 16GB, WIN11 Home, SFG16-71-77FT'"
      ]
     },
     "execution_count": 4,
     "metadata": {},
     "output_type": "execute_result"
    }
   ],
   "source": [
    " soup.select_one(\".product-name\").text"
   ]
  },
  {
   "cell_type": "code",
   "execution_count": 18,
   "id": "410e5758",
   "metadata": {},
   "outputs": [
    {
     "data": {
      "text/plain": [
       "'#product1_detail.html'"
      ]
     },
     "execution_count": 18,
     "metadata": {},
     "output_type": "execute_result"
    }
   ],
   "source": [
    " soup.select_one(\".product-name > a\").attrs['href']"
   ]
  },
  {
   "cell_type": "code",
   "execution_count": 26,
   "id": "16ab7bfa",
   "metadata": {},
   "outputs": [
    {
     "data": {
      "text/plain": [
       "'1419000'"
      ]
     },
     "execution_count": 26,
     "metadata": {},
     "output_type": "execute_result"
    }
   ],
   "source": [
    "soup.select_one(\".product-price\").text.strip().replace(',','').replace(\"원\",\"\")\n",
    "#\\n 줄바꿈 ,  \\t 탭\n",
    "# .strip()  을 사용해서, 앞 뒤 공백을 제거해주는 명령어\n",
    "# .replace : 특정 문자를 없애기"
   ]
  },
  {
   "cell_type": "code",
   "execution_count": null,
   "id": "9e46181d",
   "metadata": {},
   "outputs": [],
   "source": []
  }
 ],
 "metadata": {
  "kernelspec": {
   "display_name": "Python 3",
   "language": "python",
   "name": "python3"
  },
  "language_info": {
   "codemirror_mode": {
    "name": "ipython",
    "version": 3
   },
   "file_extension": ".py",
   "mimetype": "text/x-python",
   "name": "python",
   "nbconvert_exporter": "python",
   "pygments_lexer": "ipython3",
   "version": "3.12.2"
  }
 },
 "nbformat": 4,
 "nbformat_minor": 5
}
