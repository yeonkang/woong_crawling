{
 "cells": [
  {
   "cell_type": "code",
   "execution_count": 2,
   "id": "e749a580",
   "metadata": {},
   "outputs": [],
   "source": [
    "import requests\n",
    "from bs4 import BeautifulSoup\n",
    "response = requests.get(\"https://startcoding.pythonanywhere.com/basic\")\n",
    "html = response.text\n",
    "soup = BeautifulSoup(html, 'html.parser')\n"
   ]
  },
  {
   "cell_type": "markdown",
   "id": "9d44c77a",
   "metadata": {},
   "source": [
    "##포레스트 이론\n",
    "\n",
    "1. 숲에서 나무를 찾기 <br>\n",
    "    숲 = 페이지 전체 HTML <br>\n",
    "    나무 = 원하는 정보를 모두 담는 태그 <br>\n",
    "\n",
    "2. WORKFLOW\n",
    "    1. 숲에서 원하는 정보를 모두 담고있는 나무를 찾는다 (나무는 여러개가 될 수 있다.)\n",
    "    2. css 선택자를 만들어 테스트 한다.\n",
    "    3. soup.select(\"CSS 선택자\")로 숲에서 나무들을 뽑는다\n",
    "    4. 반복문을 돌면서 나무에서 하나씩 열매를 추출한다."
   ]
  },
  {
   "cell_type": "code",
   "execution_count": null,
   "id": "c850b8d9",
   "metadata": {},
   "outputs": [],
   "source": [
    "# select() : 선택자에 매칭되는 태그 전체를 리스트로 반환"
   ]
  },
  {
   "cell_type": "code",
   "execution_count": 12,
   "id": "465e5982",
   "metadata": {},
   "outputs": [
    {
     "name": "stdout",
     "output_type": "stream",
     "text": [
      "노트북 에이서 스위프트 GO 16 OLED, 스틸 그레이, 코어i7, 512GB, 16GB, WIN11 Home, SFG16-71-77FT #product1_detail.html 1419000\n",
      "노트북 삼성전자 노트북 플러스2 15.6, 퓨어 화이트, NT550XDA-K24AT, 펜티엄, 256GB, 8GB, WIN11 Pro #product2_detail.html 549000\n",
      "노트북 레노버 아이디어패드 슬림 1 15AMN7 15.6, 256GB, Free DOS, 82VG002EKR, 라이젠3, Cloud Grey (82VG), 8GB #product3_detail.html 529000\n",
      "노트북 레노버 V15 G4 AMN 15.6, Arctic Grey, 라이젠3, 256GB, 8GB, WIN11 Home, 82YU0009KR #product4_detail.html 624000\n",
      "노트북 LG 울트라PC 엣지 16, 차콜 그레이, 라이젠5, 256GB, 16GB, WIN11 Home, 16U70R-GA56K #product5_detail.html 1135000\n",
      "노트북 베이직스 베이직북 14 3세대, BB1422SS, 256GB, White, WIN11 Pro, 셀러론, 8GB #product6_detail.html 398000\n",
      "노트북 레노버 아이디어패드 슬림 5i 14IRL 14, Cloud Grey, 코어i5, 512GB, 16GB, Free DOS, 82XD002XKR #product7_detail.html 899000\n",
      "노트북 레노버 아이디어패드 슬림 5 16IRL 16, Cloud Grey, 512GB, 16GB, Free DOS, 82XF001RKR #product8_detail.html 929000\n",
      "노트북 에이서 스위프트 GO 16 OLED, 스틸 그레이, 코어i5, 512GB, 16GB, Free DOS, SFG16-71-51BY #product9_detail.html 1008000\n",
      "노트북 삼성전자 갤럭시북 2 15.6, 500GB, 실버, NT550XED-K78AS, 코어i7, 16GB, WIN11 Home #product10_detail.html 1149000\n"
     ]
    }
   ],
   "source": [
    "items = soup.select(\".product\")\n",
    "\n",
    "for item in items:\n",
    "    category = item.select_one(\".product-category\").text\n",
    "    name = item.select_one(\".product-name\").text\n",
    "    link = item.select_one(\".product-name > a\").attrs['href']\n",
    "    price = item.select_one(\".product-price\").text.split('원')[0].replace(',','')\n",
    "    #prices 내가 원하는 조건으로 잘 설정해주기\n",
    "    print(category, name, link, price)"
   ]
  },
  {
   "cell_type": "code",
   "execution_count": 8,
   "id": "49c19e2f",
   "metadata": {},
   "outputs": [
    {
     "name": "stdout",
     "output_type": "stream",
     "text": [
      "노트북 에이서 스위프트 GO 16 OLED, 스틸 그레이, 코어i7, 512GB, 16GB, WIN11 Home, SFG16-71-77FT #product1_detail.html 1419000\n"
     ]
    }
   ],
   "source": [
    "category = soup.select_one(\".product-category\").text\n",
    "name = soup.select_one(\".product-name\").text\n",
    "link = soup.select_one(\".product-name > a\").attrs['href']\n",
    "price = soup.select_one(\".product-price\").text.strip().replace(',','').replace('원','')\n",
    "print(category, name, link, price)"
   ]
  },
  {
   "cell_type": "code",
   "execution_count": null,
   "id": "9caa33e6",
   "metadata": {},
   "outputs": [],
   "source": []
  },
  {
   "cell_type": "code",
   "execution_count": null,
   "id": "2a2ee33c",
   "metadata": {},
   "outputs": [],
   "source": []
  },
  {
   "cell_type": "markdown",
   "id": "bfe89183",
   "metadata": {},
   "source": []
  },
  {
   "cell_type": "markdown",
   "id": "d73792d5",
   "metadata": {},
   "source": []
  },
  {
   "cell_type": "markdown",
   "id": "3bda806d",
   "metadata": {},
   "source": []
  }
 ],
 "metadata": {
  "kernelspec": {
   "display_name": "Python 3",
   "language": "python",
   "name": "python3"
  },
  "language_info": {
   "codemirror_mode": {
    "name": "ipython",
    "version": 3
   },
   "file_extension": ".py",
   "mimetype": "text/x-python",
   "name": "python",
   "nbconvert_exporter": "python",
   "pygments_lexer": "ipython3",
   "version": "3.12.2"
  }
 },
 "nbformat": 4,
 "nbformat_minor": 5
}
