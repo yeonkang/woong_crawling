{
 "cells": [
  {
   "cell_type": "code",
   "execution_count": null,
   "id": "2d19b713",
   "metadata": {},
   "outputs": [
    {
     "name": "stdout",
     "output_type": "stream",
     "text": [
      "Collecting openpyxl\n",
      "  Downloading openpyxl-3.1.5-py2.py3-none-any.whl.metadata (2.5 kB)\n",
      "Collecting et-xmlfile (from openpyxl)\n",
      "  Downloading et_xmlfile-2.0.0-py3-none-any.whl.metadata (2.7 kB)\n",
      "Downloading openpyxl-3.1.5-py2.py3-none-any.whl (250 kB)\n",
      "   ---------------------------------------- 0.0/250.9 kB ? eta -:--:--\n",
      "   - -------------------------------------- 10.2/250.9 kB ? eta -:--:--\n",
      "   ---------------------------------------- 250.9/250.9 kB 5.1 MB/s eta 0:00:00\n",
      "Downloading et_xmlfile-2.0.0-py3-none-any.whl (18 kB)\n",
      "Installing collected packages: et-xmlfile, openpyxl\n",
      "Successfully installed et-xmlfile-2.0.0 openpyxl-3.1.5\n"
     ]
    },
    {
     "name": "stderr",
     "output_type": "stream",
     "text": [
      "\n",
      "[notice] A new release of pip is available: 24.0 -> 25.0.1\n",
      "[notice] To update, run: python.exe -m pip install --upgrade pip\n"
     ]
    }
   ],
   "source": [
    "\n",
    "!pip install openpyxl\n",
    "\n",
    "## add"
   ]
  },
  {
   "cell_type": "code",
   "execution_count": 1,
   "id": "125120cd",
   "metadata": {},
   "outputs": [
    {
     "name": "stdout",
     "output_type": "stream",
     "text": [
      "1\n",
      "2\n",
      "3\n",
      "4\n"
     ]
    }
   ],
   "source": [
    "for i in range(1,5):\n",
    "    print(i)"
   ]
  },
  {
   "cell_type": "code",
   "execution_count": 2,
   "id": "70b9f2bb",
   "metadata": {},
   "outputs": [
    {
     "data": {
      "text/plain": [
       "'안녕하세요 제 이름은 피카츄입니다. 나이는 355살 입니다.'"
      ]
     },
     "execution_count": 2,
     "metadata": {},
     "output_type": "execute_result"
    }
   ],
   "source": [
    "name = \"피카츄\"\n",
    "age = 355\n",
    "greeting = f\"안녕하세요 제 이름은 {name}입니다. 나이는 {age}살 입니다.\"\n",
    "greeting"
   ]
  },
  {
   "cell_type": "code",
   "execution_count": null,
   "id": "fab60676",
   "metadata": {},
   "outputs": [],
   "source": []
  },
  {
   "cell_type": "code",
   "execution_count": 3,
   "id": "e749a580",
   "metadata": {},
   "outputs": [
    {
     "name": "stdout",
     "output_type": "stream",
     "text": [
      "노트북 에이서 스위프트 GO 16 OLED, 스틸 그레이, 코어i7, 512GB, 16GB, WIN11 Home, SFG16-71-77FT #product1_detail.html 1419000\n",
      "노트북 삼성전자 노트북 플러스2 15.6, 퓨어 화이트, NT550XDA-K24AT, 펜티엄, 256GB, 8GB, WIN11 Pro #product2_detail.html 549000\n",
      "노트북 레노버 아이디어패드 슬림 1 15AMN7 15.6, 256GB, Free DOS, 82VG002EKR, 라이젠3, Cloud Grey (82VG), 8GB #product3_detail.html 529000\n",
      "노트북 레노버 V15 G4 AMN 15.6, Arctic Grey, 라이젠3, 256GB, 8GB, WIN11 Home, 82YU0009KR #product4_detail.html 624000\n",
      "노트북 LG 울트라PC 엣지 16, 차콜 그레이, 라이젠5, 256GB, 16GB, WIN11 Home, 16U70R-GA56K #product5_detail.html 1135000\n",
      "노트북 베이직스 베이직북 14 3세대, BB1422SS, 256GB, White, WIN11 Pro, 셀러론, 8GB #product6_detail.html 398000\n",
      "노트북 레노버 아이디어패드 슬림 5i 14IRL 14, Cloud Grey, 코어i5, 512GB, 16GB, Free DOS, 82XD002XKR #product7_detail.html 899000\n",
      "노트북 레노버 아이디어패드 슬림 5 16IRL 16, Cloud Grey, 512GB, 16GB, Free DOS, 82XF001RKR #product8_detail.html 929000\n",
      "노트북 에이서 스위프트 GO 16 OLED, 스틸 그레이, 코어i5, 512GB, 16GB, Free DOS, SFG16-71-51BY #product9_detail.html 1008000\n",
      "노트북 삼성전자 갤럭시북 2 15.6, 500GB, 실버, NT550XED-K78AS, 코어i7, 16GB, WIN11 Home #product10_detail.html 1149000\n",
      "데스크탑 한성컴퓨터 데스크탑 화이트 TFG MX4A500 (라이젠5-5600G WIN미포함 RAM 16GB NVMe 500GB), 기본형 #product11_detail.html 499000\n",
      "데스크탑 컴집 게이밍 조립식 컴퓨터 본체 배틀그라운드 디아블로4 롤 오버워치2 전문가용 건축설계 오토캐드 조립 PC, 게임용1번 #product12_detail.html 699000\n",
      "데스크탑 HP VICTUS 게이밍 데스크탑 TG02-1000KL (i5-13400F FreeDos RAM 16GB NVMe 512GB RTX3060 Ti), 기본형 #product13_detail.html 1199000\n",
      "데스크탑 델 인스피론 3020 S 슬림 데스크탑 포그 블루 DN3020S-WH02KR (i5-13400 WIN11 Home NVMe 512GB DDR4 8GB), 기본형 #product14_detail.html 719000\n",
      "데스크탑 삼성전자 컴퓨터 i7-8700 T8A 정품 윈도우11 Pro 탑재 사무용 데스크탑 PC 본체, 기본스펙, 삼성 T8A i7-8700+8GB+500GB #product15_detail.html 416000\n",
      "데스크탑 삼성전자 사무용 게임용 리퍼 중고컴퓨터 i3 i5 i7 GTX1060 무상A/S 1년 새상품SSD, 7번) i5-7세대-미들[게임용 조립] #product16_detail.html 436000\n",
      "데스크탑 삼성전자 삼성 DM500SFZ-AD5A 최신 13세대 CPU-i5 데스크탑 슬림형 PC본체 사무용 컴퓨터 인터넷강의 재택근무 업무용, 블랙 #product17_detail.html 889000\n",
      "데스크탑 HP S01-PF3000KL-WIN11 13세대\n",
      "i5-13400_(NVMe512GB_16GB)HP컴퓨터/슬림PC/사무용PC/HH #product18_detail.html 799000\n",
      "데스크탑 삼성 컴퓨터 본체 조립PC 모니터포함 풀세트 사무용 게이밍 데스크탑 윈도우10, 본체만, 10. 라이젠5600/32G/500/4060 #product19_detail.html 1099000\n",
      "데스크탑 컴집 게이밍 조립식 컴퓨터 본체 배틀그라운드 디아블로4 롤 오버워치2 전문가용 건축설계 오토캐드 조립 PC, 게임용11번 #product20_detail.html 899000\n",
      "휴대폰 삼성전자 갤럭시 A34 자급제, 어썸 그라파이트, 128GB #product21_detail.html 408400\n",
      "휴대폰 삼성전자 갤럭시 A34 자급제, 어썸 바이올렛, 128GB #product22_detail.html 408400\n",
      "휴대폰 삼성전자 갤럭시 A34 자급제, 어썸 실버, 128GB #product23_detail.html 409510\n",
      "휴대폰 삼성전자 갤럭시 A24 자급제, 블랙, 128GB #product24_detail.html 319000\n",
      "휴대폰 삼성전자 갤럭시 S23 자급제, 라벤더, 256GB #product25_detail.html 952450\n",
      "휴대폰 삼성전자 갤럭시 S23 자급제, 크림, 256GB #product26_detail.html 1004850\n",
      "휴대폰 삼성전자 갤럭시 A23 공기계 128GB, 블루, A급 #product27_detail.html 199000\n",
      "휴대폰 삼성전자 갤럭시 Z 플립5 5G 자급제, 크림, 512GB #product28_detail.html 1216050\n",
      "휴대폰 삼성전자 갤럭시 S23 5G 256GB 제휴카드 새제품 미개봉 미개통, 그린 #product29_detail.html 147000\n",
      "휴대폰 삼성전자 갤럭시 S23 FE 자급제 SM-S711N, 크림, 256GB #product30_detail.html 719900\n",
      "모니터 주연테크 54.6cm FHD LED 모니터 100Hz, V22FX(일반) #product31_detail.html 89000\n",
      "모니터 LG전자 60.4cm FHD 모니터, 24MQ400C #product32_detail.html 145000\n",
      "모니터 KOORUI 60.45cm FHD 게이밍 모니터 리얼 165Hz 1ms MPRT+프리싱크/G-sync 지원 24E4 블랙 #product33_detail.html 85900\n",
      "모니터 LG전자 68.6cm FHD 모니터, 27MQ400C #product34_detail.html 169750\n",
      "모니터 KOORUI 60.45cm FHD Fast IPS 리얼 165Hz 1ms(gtg) 게이밍 모니터 24E3 블랙 [프리싱크/G-sync 지원] #product35_detail.html 139000\n"
     ]
    }
   ],
   "source": [
    "import requests\n",
    "from bs4 import BeautifulSoup\n",
    "import pandas as pd\n",
    "\n",
    "data = []\n",
    "for i in range(1,5) :\n",
    "    response = requests.get(f\"https://startcoding.pythonanywhere.com/basic?page={i}\")\n",
    "    html = response.text\n",
    "    soup = BeautifulSoup(html, 'html.parser')\n",
    "    items = soup.select(\".product\")\n",
    "    for item in items:\n",
    "        category = item.select_one(\".product-category\").text\n",
    "        name = item.select_one(\".product-name\").text\n",
    "        link = item.select_one(\".product-name > a\").attrs['href']\n",
    "        price = item.select_one(\".product-price\").text.split('원')[0].replace(',','')\n",
    "        #prices 내가 원하는 조건으로 잘 설정해주기\n",
    "        print(category, name, link, price)\n",
    "        data.append([category, name, link, price])\n",
    "        \n"
   ]
  },
  {
   "cell_type": "code",
   "execution_count": 9,
   "id": "e915d3a5",
   "metadata": {},
   "outputs": [],
   "source": [
    "\n",
    "# 데이터 프레임 만들기\n",
    "df = pd.DataFrame(data, columns=['카테고리','상품명','상세 페이지 링크','가격'])\n"
   ]
  },
  {
   "cell_type": "code",
   "execution_count": 12,
   "id": "9433ac4b",
   "metadata": {},
   "outputs": [],
   "source": [
    "# 엑셀 저장\n",
    "df.to_excel(\"result.xlsx\", index = False)"
   ]
  },
  {
   "cell_type": "markdown",
   "id": "9d44c77a",
   "metadata": {},
   "source": [
    "##포레스트 이론\n",
    "\n",
    "1. 숲에서 나무를 찾기 <br>\n",
    "    숲 = 페이지 전체 HTML <br>\n",
    "    나무 = 원하는 정보를 모두 담는 태그 <br>\n",
    "\n",
    "2. WORKFLOW\n",
    "    1. 숲에서 원하는 정보를 모두 담고있는 나무를 찾는다 (나무는 여러개가 될 수 있다.)\n",
    "    2. css 선택자를 만들어 테스트 한다.\n",
    "    3. soup.select(\"CSS 선택자\")로 숲에서 나무들을 뽑는다\n",
    "    4. 반복문을 돌면서 나무에서 하나씩 열매를 추출한다."
   ]
  },
  {
   "cell_type": "code",
   "execution_count": null,
   "id": "c850b8d9",
   "metadata": {},
   "outputs": [],
   "source": [
    "# select() : 선택자에 매칭되는 태그 전체를 리스트로 반환"
   ]
  },
  {
   "cell_type": "code",
   "execution_count": null,
   "id": "465e5982",
   "metadata": {},
   "outputs": [
    {
     "name": "stdout",
     "output_type": "stream",
     "text": [
      "노트북 에이서 스위프트 GO 16 OLED, 스틸 그레이, 코어i7, 512GB, 16GB, WIN11 Home, SFG16-71-77FT #product1_detail.html 1419000\n",
      "노트북 삼성전자 노트북 플러스2 15.6, 퓨어 화이트, NT550XDA-K24AT, 펜티엄, 256GB, 8GB, WIN11 Pro #product2_detail.html 549000\n",
      "노트북 레노버 아이디어패드 슬림 1 15AMN7 15.6, 256GB, Free DOS, 82VG002EKR, 라이젠3, Cloud Grey (82VG), 8GB #product3_detail.html 529000\n",
      "노트북 레노버 V15 G4 AMN 15.6, Arctic Grey, 라이젠3, 256GB, 8GB, WIN11 Home, 82YU0009KR #product4_detail.html 624000\n",
      "노트북 LG 울트라PC 엣지 16, 차콜 그레이, 라이젠5, 256GB, 16GB, WIN11 Home, 16U70R-GA56K #product5_detail.html 1135000\n",
      "노트북 베이직스 베이직북 14 3세대, BB1422SS, 256GB, White, WIN11 Pro, 셀러론, 8GB #product6_detail.html 398000\n",
      "노트북 레노버 아이디어패드 슬림 5i 14IRL 14, Cloud Grey, 코어i5, 512GB, 16GB, Free DOS, 82XD002XKR #product7_detail.html 899000\n",
      "노트북 레노버 아이디어패드 슬림 5 16IRL 16, Cloud Grey, 512GB, 16GB, Free DOS, 82XF001RKR #product8_detail.html 929000\n",
      "노트북 에이서 스위프트 GO 16 OLED, 스틸 그레이, 코어i5, 512GB, 16GB, Free DOS, SFG16-71-51BY #product9_detail.html 1008000\n",
      "노트북 삼성전자 갤럭시북 2 15.6, 500GB, 실버, NT550XED-K78AS, 코어i7, 16GB, WIN11 Home #product10_detail.html 1149000\n"
     ]
    }
   ],
   "source": []
  },
  {
   "cell_type": "code",
   "execution_count": 8,
   "id": "49c19e2f",
   "metadata": {},
   "outputs": [
    {
     "name": "stdout",
     "output_type": "stream",
     "text": [
      "노트북 에이서 스위프트 GO 16 OLED, 스틸 그레이, 코어i7, 512GB, 16GB, WIN11 Home, SFG16-71-77FT #product1_detail.html 1419000\n"
     ]
    }
   ],
   "source": [
    "category = soup.select_one(\".product-category\").text\n",
    "name = soup.select_one(\".product-name\").text\n",
    "link = soup.select_one(\".product-name > a\").attrs['href']\n",
    "price = soup.select_one(\".product-price\").text.strip().replace(',','').replace('원','')\n",
    "print(category, name, link, price)"
   ]
  },
  {
   "cell_type": "code",
   "execution_count": null,
   "id": "9caa33e6",
   "metadata": {},
   "outputs": [],
   "source": []
  },
  {
   "cell_type": "code",
   "execution_count": null,
   "id": "2a2ee33c",
   "metadata": {},
   "outputs": [],
   "source": []
  },
  {
   "cell_type": "markdown",
   "id": "bfe89183",
   "metadata": {},
   "source": []
  },
  {
   "cell_type": "markdown",
   "id": "d73792d5",
   "metadata": {},
   "source": []
  },
  {
   "cell_type": "markdown",
   "id": "3bda806d",
   "metadata": {},
   "source": []
  }
 ],
 "metadata": {
  "kernelspec": {
   "display_name": "Python 3",
   "language": "python",
   "name": "python3"
  },
  "language_info": {
   "codemirror_mode": {
    "name": "ipython",
    "version": 3
   },
   "file_extension": ".py",
   "mimetype": "text/x-python",
   "name": "python",
   "nbconvert_exporter": "python",
   "pygments_lexer": "ipython3",
   "version": "3.12.2"
  }
 },
 "nbformat": 4,
 "nbformat_minor": 5
}
